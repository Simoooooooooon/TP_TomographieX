{
 "cells": [
  {
   "cell_type": "markdown",
   "id": "5ea3af99-c8e3-48f0-902c-d229db67be3b",
   "metadata": {},
   "source": [
    "***\n",
    "### **<h1 align=\"center\">Reconstruction d'un volume à partir de tilt series (appliqué à la carte SD)</h1>**\n",
    "***"
   ]
  },
  {
   "cell_type": "markdown",
   "id": "91684659-af28-4443-bf0d-e48432d45fae",
   "metadata": {},
   "source": [
    "#### Importer les bibliothèques python"
   ]
  },
  {
   "cell_type": "code",
   "execution_count": null,
   "id": "c19d125d-d69b-4663-b3be-6a06140f5756",
   "metadata": {},
   "outputs": [],
   "source": [
    "import tomopy\n",
    "import dxchange\n",
    "import matplotlib\n",
    "import matplotlib.pyplot as plt\n",
    "# import datetime\n",
    "# import time\n",
    "# import cv2\n",
    "import numpy as np\n",
    "from imagestacks import create_animation\n",
    "from IPython.core.display import HTML\n",
    "# from skimage.filters import threshold_otsu"
   ]
  },
  {
   "cell_type": "markdown",
   "id": "ea71afb3-c36b-4657-8985-94bfde07e07e",
   "metadata": {},
   "source": [
    "#### Selectionner la premiere image (numero 0) du dossier tilt series"
   ]
  },
  {
   "cell_type": "code",
   "execution_count": null,
   "id": "a28438ef-df39-4834-b9e4-9538655480ba",
   "metadata": {},
   "outputs": [],
   "source": [
    "fname = 'C:/Users/cayez/Documents/DONNEES SIMON/python/projetMultiTomopy/tilt_0_180/carteSD120321_0000.tif'\n",
    "ind = list(range(180))\n",
    "print(fname)"
   ]
  },
  {
   "cell_type": "markdown",
   "id": "ac056aec-4a32-41e9-912d-d0ce6ce07f69",
   "metadata": {},
   "source": [
    "#### Creer le stack d'images projection"
   ]
  },
  {
   "cell_type": "code",
   "execution_count": null,
   "id": "c6cedafa-09bd-4610-8dfa-00544501363f",
   "metadata": {},
   "outputs": [],
   "source": [
    "proj = dxchange.reader.read_tiff_stack(fname, ind)"
   ]
  },
  {
   "cell_type": "markdown",
   "id": "fe87adec-ad68-43f7-89e1-92a8278f5125",
   "metadata": {},
   "source": [
    "#### Regarder le format des données proj"
   ]
  },
  {
   "cell_type": "code",
   "execution_count": null,
   "id": "d9723683-2b32-431a-8e96-95e1f624d916",
   "metadata": {},
   "outputs": [],
   "source": [
    "print('Type de données proj: ', type(proj))\n",
    "print('Dimension des données: ', proj.shape)\n",
    "print('Intensité Pixel min: ',np.min(proj[0])) \n",
    "print('Intensité Pixel min: ',np.max(proj[0]))"
   ]
  },
  {
   "cell_type": "markdown",
   "id": "4d2631af-7890-471c-982a-530cc078f3f8",
   "metadata": {},
   "source": [
    "#### Afficher une image du stack"
   ]
  },
  {
   "cell_type": "code",
   "execution_count": null,
   "id": "913f587e-2042-4e52-9b25-b9c46a4fc5cf",
   "metadata": {},
   "outputs": [],
   "source": [
    "numero_image = 0 #Affichons par exemple l'image 0 (la 1ere image)\n",
    "plt.imshow(proj[numero_image,:,:], cmap='Greys_r') #Affiche l'image choisie tous les pixels en x et tous les pixels en y\n",
    "plt.show()"
   ]
  },
  {
   "cell_type": "markdown",
   "id": "3badcd7f-09f2-431e-bfe9-a8a4a2459e98",
   "metadata": {},
   "source": [
    "#### Recouper l'image pour supprimer les zones ne contenant pas d'information (les traitement qui vont suivre seront plus rapide sur une image plus légère)"
   ]
  },
  {
   "cell_type": "code",
   "execution_count": null,
   "id": "90f1e56b-71fd-42bc-8a72-97aab1adff42",
   "metadata": {},
   "outputs": [],
   "source": [
    "xmin = 350\n",
    "xmax = 1100\n",
    "ymin = 150\n",
    "ymax = 800\n",
    "plt.imshow(proj[numero_image,xmin:xmax,ymin:ymax], cmap='Greys_r') #Affiche l'image choisie , seulement les pixels choisis en y\n",
    "plt.show()"
   ]
  },
  {
   "cell_type": "markdown",
   "id": "80fcf105-e3ec-4ca5-8f4f-f7015a8e2deb",
   "metadata": {},
   "source": [
    "#### Regarder les tailles des images"
   ]
  },
  {
   "cell_type": "code",
   "execution_count": null,
   "id": "cf792e70-059a-4d4f-ad0e-8a4e4c10439f",
   "metadata": {},
   "outputs": [],
   "source": [
    "print('Taille avant recoupe = ',proj[numero_image,:,:].shape,'pixels')\n",
    "print('Taille après recoupe = ',proj[numero_image,xmin:xmax,ymin:ymax].shape,'pixels')\n",
    "largeur_crop = proj[numero_image,xmin:xmax,ymin:ymax].shape[1]\n",
    "hauteur_crop = proj[numero_image,xmin:xmax,ymin:ymax].shape[0]\n",
    "xyratio = largeur_crop/hauteur_crop\n",
    "print('Ratio hauteur/largeur',xyratio)"
   ]
  },
  {
   "cell_type": "markdown",
   "id": "48860f17-2c1a-4150-b265-d5eae325c95d",
   "metadata": {},
   "source": [
    "#### Si la selection est correcte, l'appliquer à l'ensemble des images"
   ]
  },
  {
   "cell_type": "code",
   "execution_count": null,
   "id": "69da5aad-a4c9-4ac1-a396-b80f10965257",
   "metadata": {},
   "outputs": [],
   "source": [
    "nombre_images = proj.shape[0]\n",
    "print(nombre_images,'images dans la série de tilt')\n",
    "\n",
    "#construire un tableau vide \n",
    "\n",
    "proj_crop = np.ndarray((nombre_images,hauteur_crop,largeur_crop), dtype=np.int32)\n",
    "\n",
    "#le remplir avec les images crop\n",
    "for i in range (0,nombre_images):\n",
    "    proj_crop[i] = proj[i,xmin:xmax,ymin:ymax] "
   ]
  },
  {
   "cell_type": "markdown",
   "id": "134c8254-2ed7-4faa-9d3c-f97f57db8ce6",
   "metadata": {},
   "source": [
    "#### Vérifier sur l'ensemble des images si la recoupe est correcte"
   ]
  },
  {
   "cell_type": "code",
   "execution_count": null,
   "id": "45368929-f07e-4564-a3c9-a506f137d0d9",
   "metadata": {},
   "outputs": [],
   "source": [
    "anim0 = create_animation(proj_crop, 4,4/xyratio)\n",
    "display(HTML(anim0.to_jshtml()))"
   ]
  },
  {
   "cell_type": "markdown",
   "id": "e69ffd3d-5823-4203-a10c-145276da68e5",
   "metadata": {},
   "source": [
    "#### Afficher la  l'image avant sous échantillonnage"
   ]
  },
  {
   "cell_type": "code",
   "execution_count": null,
   "id": "a5613f22-b9f6-490f-9f41-ed56f2773e64",
   "metadata": {},
   "outputs": [],
   "source": [
    "plt.imshow(proj_crop[numero_image,:,:], cmap='Greys_r')\n",
    "plt.show()"
   ]
  },
  {
   "cell_type": "markdown",
   "id": "ad02644d-936e-49d9-9f6e-6c3920e2ee16",
   "metadata": {},
   "source": [
    "#### Normaliser les données en utilisant l'intensité du fond\n",
    "[Documentation tomopy.prep.normalize](https://mytomopy.readthedocs.io/en/latest/api/tomopy.prep.normalize.html)"
   ]
  },
  {
   "cell_type": "code",
   "execution_count": null,
   "id": "b461d25c-fc0a-4822-8734-74ff7b3d5df3",
   "metadata": {},
   "outputs": [],
   "source": [
    "normbg = tomopy.prep.normalize.normalize_bg(proj_crop)"
   ]
  },
  {
   "cell_type": "markdown",
   "id": "53e712c2-24f7-4ac8-8242-0b1d45e5e869",
   "metadata": {},
   "source": [
    "#### Regarder le format des données normbg"
   ]
  },
  {
   "cell_type": "code",
   "execution_count": null,
   "id": "2892dc83-3b97-4b41-b2d5-20d1c20d002e",
   "metadata": {},
   "outputs": [],
   "source": [
    "print('Type de données proj: ', type(normbg))\n",
    "print('Dimension des données: ', normbg.shape)\n",
    "print('Intensité Pixel min: ',np.min(normbg[0])) \n",
    "print('Intensité Pixel min: ',np.max(normbg[0]))"
   ]
  },
  {
   "cell_type": "markdown",
   "id": "8974d169-a304-4b73-b7b0-ecf80a7766f3",
   "metadata": {},
   "source": [
    "#### Normaliser les valeurs des pixels avec -log (cf Beer Lambert)"
   ]
  },
  {
   "cell_type": "code",
   "execution_count": null,
   "id": "c79790ef-9977-498f-bd81-75dd563a3fa7",
   "metadata": {},
   "outputs": [],
   "source": [
    "# norm = tomopy.prep.normalize.minus_log(proj_crop, ncore=None, out=None)\n",
    "norm =tomopy.minus_log(normbg )"
   ]
  },
  {
   "cell_type": "markdown",
   "id": "a34dbded-fe79-47ff-8a6d-de561a7684ea",
   "metadata": {},
   "source": [
    "#### Afficher la  l'image normalisee choisie"
   ]
  },
  {
   "cell_type": "code",
   "execution_count": null,
   "id": "79707496-b828-4e97-b01c-5022669f13cc",
   "metadata": {},
   "outputs": [],
   "source": [
    "\n",
    "\n",
    "plt.imshow(norm[numero_image,:,:], cmap='Greys_r')\n",
    "plt.show()"
   ]
  },
  {
   "cell_type": "markdown",
   "id": "efcf8601-ff07-41a4-a936-aad5c911b968",
   "metadata": {},
   "source": [
    "#### Regarder le format des données norm"
   ]
  },
  {
   "cell_type": "code",
   "execution_count": null,
   "id": "74beca7d-5c6f-4fc2-b120-53bb5fe321dc",
   "metadata": {},
   "outputs": [],
   "source": [
    "print('Type de données proj: ', type(norm))\n",
    "print('Dimension des données: ', normbg.shape)\n",
    "print('Intensité Pixel min: ',np.min(norm[0])) \n",
    "print('Intensité Pixel min: ',np.max(norm[0]))"
   ]
  },
  {
   "cell_type": "markdown",
   "id": "f2fe2c6c-2b19-4dd0-8223-01c215e236d7",
   "metadata": {},
   "source": [
    "#### Générer un tableau numpy contenant les angles d'acquisition des differentes images"
   ]
  },
  {
   "cell_type": "code",
   "execution_count": null,
   "id": "b3dcbd29-9af1-437b-b173-1f183e2aae79",
   "metadata": {},
   "outputs": [],
   "source": [
    "angle_debut = 0\n",
    "angle_fin = 180\n",
    "ang = tomopy.angles(nombre_images,angle_debut,angle_fin)"
   ]
  },
  {
   "cell_type": "markdown",
   "id": "2c96f6c8-f225-4103-91e2-450b5a7f2809",
   "metadata": {},
   "source": [
    "#### Définition des lignes qui seront utilisées pour déterminer le centre de rotation"
   ]
  },
  {
   "cell_type": "code",
   "execution_count": null,
   "id": "0e6072c1-a1ae-4d88-8402-5ff1713a0b2f",
   "metadata": {},
   "outputs": [],
   "source": [
    "centre_rot_initial = 350\n",
    "y1 = 73\n",
    "y2 = 600\n",
    "\n",
    "plt.axhline(y=y1,color='blue',linewidth=2)\n",
    "plt.axhline(y=y2,color='blue',linewidth=2)\n",
    "plt.axvline(x=centre_rot_initial,color='red',linewidth=2)\n",
    "\n",
    "plt.imshow(norm[numero_image,:,:], cmap='Greys_r')\n",
    "plt.show()"
   ]
  },
  {
   "cell_type": "markdown",
   "id": "7aaf6e79-f859-43a5-8148-0d4359f81faf",
   "metadata": {},
   "source": [
    "#### Il faut définir le centre de rotation. Pour cela on va faire des tests de en reconstruisant une seule image correspondant à la ligne du haut d'abord..."
   ]
  },
  {
   "cell_type": "code",
   "execution_count": null,
   "id": "76a6c5fa-616b-43f7-a68b-eaac7a013c23",
   "metadata": {},
   "outputs": [],
   "source": [
    "i=1\n",
    "lignes = 8\n",
    "colonnes = 5\n",
    "\n",
    "fig = plt.figure(figsize=(22,36))\n",
    "fig.add_subplot(lignes, colonnes, 1)\n",
    "rec_test_centre = tomopy.recon(norm[:,y1:y1+1,:], ang,center = [centre_rot_initial] , algorithm='gridrec')\n",
    "plt.imshow(rec_test_centre[0],cmap='Greys_r')\n",
    "plt.title(str(i))\n",
    "for k in range (centre_rot_initial-20,centre_rot_initial+20):\n",
    "    rec_test_centre = tomopy.recon(norm[:,y1:y1+1,:], ang,center = [k] , algorithm='gridrec')\n",
    "    fig.add_subplot(lignes, colonnes, i)\n",
    "    plt.imshow(rec_test_centre[0],cmap='Greys_r')\n",
    "    plt.title(str(k))\n",
    "    i+=1"
   ]
  },
  {
   "cell_type": "markdown",
   "id": "e54065c6-12e3-44d8-a5b4-c0db567cedf0",
   "metadata": {},
   "source": [
    "#### ... et à la ligne du bas"
   ]
  },
  {
   "cell_type": "code",
   "execution_count": null,
   "id": "0837a905-c1e4-4288-b308-486dca385336",
   "metadata": {},
   "outputs": [],
   "source": [
    "i=1\n",
    "lignes = 8\n",
    "colonnes = 5\n",
    "\n",
    "fig = plt.figure(figsize=(22,36))\n",
    "fig.add_subplot(lignes, colonnes, 1)\n",
    "rec_test_centre = tomopy.recon(norm[:,y2:y2+1,:], ang,center = [centre_rot_initial] , algorithm='gridrec')\n",
    "plt.imshow(rec_test_centre[0],cmap='Greys_r')\n",
    "plt.title(str(i))\n",
    "for k in range (centre_rot_initial-20,centre_rot_initial+20):\n",
    "    rec_test_centre = tomopy.recon(norm[:,y2:y2+1,:], ang,center = [k] , algorithm='gridrec')\n",
    "    fig.add_subplot(lignes, colonnes, i)\n",
    "    plt.imshow(rec_test_centre[0],cmap='Greys_r')\n",
    "    plt.title(str(k))\n",
    "    i+=1"
   ]
  },
  {
   "cell_type": "markdown",
   "id": "ffb835bc-6bd2-4d8e-b3de-7ec985ffd874",
   "metadata": {},
   "source": [
    "#### Le centre de rotation correspond à l'image la plus nette (ici 357). On peut maintenant lancer la reconstruction sur l'ensemble des lignes de l'image avec la valeur de ceentre trouvée precedemment"
   ]
  },
  {
   "cell_type": "code",
   "execution_count": null,
   "id": "394eac42-9188-46d8-a5c4-15aa2b3a4462",
   "metadata": {},
   "outputs": [],
   "source": [
    "centre = [357]\n",
    "rec = tomopy.recon(norm, ang,center =  centre , algorithm='gridrec') # Reconstruct object."
   ]
  },
  {
   "cell_type": "markdown",
   "id": "4111c79c-bca7-4961-ac94-eec089b0796f",
   "metadata": {},
   "source": [
    "#### Afficher une des images reconstruites pour vérifier"
   ]
  },
  {
   "cell_type": "code",
   "execution_count": null,
   "id": "685f9477-bc93-4ed2-9610-4a47045b7239",
   "metadata": {},
   "outputs": [],
   "source": [
    "plt.imshow(rec[500],cmap='gray')\n",
    "plt.show()"
   ]
  },
  {
   "cell_type": "markdown",
   "id": "5d0da01e-b9f7-498e-9405-7e2d986ffbc0",
   "metadata": {},
   "source": [
    "#### Regarder le format des images reconstruites"
   ]
  },
  {
   "cell_type": "code",
   "execution_count": null,
   "id": "ed1ade0c-6f14-4094-8ea6-f9baa8707cdb",
   "metadata": {},
   "outputs": [],
   "source": [
    "print('Type de données proj: ', type(rec))\n",
    "print('Dimension des données: ', rec.shape)\n",
    "print('Intensité Pixel min: ',np.min(rec[500])) \n",
    "print('Intensité Pixel min: ',np.max(rec[500]))"
   ]
  },
  {
   "cell_type": "markdown",
   "id": "b62bbde6-33e1-45b3-920b-192044d1734c",
   "metadata": {},
   "source": [
    "#### Sauver les images reconstruites"
   ]
  },
  {
   "cell_type": "code",
   "execution_count": null,
   "id": "5591b4fd-0072-4aab-85ba-c163831f3745",
   "metadata": {},
   "outputs": [],
   "source": [
    "nbre_im_reconstruct = rec.shape[0]\n",
    "\n",
    "dossier_reconstruct = 'C:/Users/cayez/Documents/DONNEES SIMON/LPCNO/Microscopie/Tomo TEM/tils series cart sd/reconstruction tomopy/'\n",
    "\n",
    "for i in range (nbre_im_reconstruct):\n",
    "    chemin_reconstruct = dossier_reconstruct+'rec'+str(i)+'.tiff'\n",
    "    matplotlib.image.imsave(chemin_reconstruct, rec[i],vmin=-0.002,vmax=0.04, cmap='gray')# ici il faut selectionner les valeurs maxi des pixels\n",
    "\n",
    "print(nbre_im_reconstruct, ' images reconstruites')   "
   ]
  },
  {
   "cell_type": "markdown",
   "id": "0a810c8d-8be0-4960-9604-5b123cb2befb",
   "metadata": {},
   "source": [
    "#### Il ne reste plus qu'a visualiser dans Tomviz"
   ]
  }
 ],
 "metadata": {
  "kernelspec": {
   "display_name": "Python 3 (ipykernel)",
   "language": "python",
   "name": "python3"
  },
  "language_info": {
   "codemirror_mode": {
    "name": "ipython",
    "version": 3
   },
   "file_extension": ".py",
   "mimetype": "text/x-python",
   "name": "python",
   "nbconvert_exporter": "python",
   "pygments_lexer": "ipython3",
   "version": "3.9.6"
  }
 },
 "nbformat": 4,
 "nbformat_minor": 5
}
